{
 "cells": [
  {
   "cell_type": "code",
   "execution_count": 1,
   "id": "97f4802e",
   "metadata": {},
   "outputs": [
    {
     "name": "stderr",
     "output_type": "stream",
     "text": [
      "c:\\Users\\Home\\AppData\\Local\\Programs\\Python\\Python312\\Lib\\site-packages\\keras\\src\\saving\\saving_lib.py:757: UserWarning: Skipping variable loading for optimizer 'adam', because it has 10 variables whereas the saved optimizer has 22 variables. \n",
      "  saveable.load_own_variables(weights_store.get(inner_path))\n"
     ]
    }
   ],
   "source": [
    "import pickle\n",
    "import tensorflow as tf\n",
    "from sklearn.metrics import accuracy_score, classification_report\n",
    "from sklearn.preprocessing import LabelEncoder\n",
    "import numpy as np\n",
    "\n",
    "# Load test data\n",
    "# Assuming you already have X_test_scaled, y_test_enc, and encoder from before\n",
    "\n",
    "# Load classical models\n",
    "with open('models/logistic_regression.pkl', 'rb') as f:\n",
    "    logistic_model = pickle.load(f)\n",
    "\n",
    "with open('models/random_forest.pkl', 'rb') as f:\n",
    "    rf_model = pickle.load(f)\n",
    "\n",
    "# Load CNN models\n",
    "cnn_baseline = tf.keras.models.load_model('models/cnn_baseline.keras')\n",
    "finetuned_model = tf.keras.models.load_model('models/finetuned_model.keras')"
   ]
  },
  {
   "cell_type": "code",
   "execution_count": 15,
   "id": "75a87c51",
   "metadata": {},
   "outputs": [],
   "source": [
    "from sklearn.preprocessing import StandardScaler, LabelEncoder\n",
    "from load_flat_dataset import load_flat_dataset\n",
    "\n",
    "X_test_flat, y_test_flat = load_flat_dataset('Dataset/spectrograms_split/test')\n",
    "encoder = LabelEncoder()\n",
    "y_test_enc = encoder.fit_transform(y_test_flat)\n",
    "\n",
    "scaler = StandardScaler()\n",
    "X_test_scaled = scaler.fit_transform(X_test_flat)"
   ]
  }
 ],
 "metadata": {
  "kernelspec": {
   "display_name": "Python 3",
   "language": "python",
   "name": "python3"
  },
  "language_info": {
   "codemirror_mode": {
    "name": "ipython",
    "version": 3
   },
   "file_extension": ".py",
   "mimetype": "text/x-python",
   "name": "python",
   "nbconvert_exporter": "python",
   "pygments_lexer": "ipython3",
   "version": "3.12.0"
  }
 },
 "nbformat": 4,
 "nbformat_minor": 5
}
